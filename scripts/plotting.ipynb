{
 "cells": [
  {
   "cell_type": "code",
   "execution_count": 2,
   "id": "3ad61d36-953f-4411-a0f1-425105b9b170",
   "metadata": {},
   "outputs": [
    {
     "name": "stdout",
     "output_type": "stream",
     "text": [
      "pk_m1.0e-05_sig1.0e-25_np0_background.dat\n",
      "pk_m1.0e-05_sig1.0e-25_np0_parameters.ini\n",
      "pk_m1.0e-05_sig1.0e-25_np0_pk.dat\n",
      "pk_m1.0e-05_sig1.0e-25_np0_tk.dat\n",
      "pk_m1.0e-05_sig1.0e-25_np0_unused_parameters\n",
      "pk_m1.0e-05_sig1.0e-25_np2_background.dat\n",
      "pk_m1.0e-05_sig1.0e-25_np2_parameters.ini\n",
      "pk_m1.0e-05_sig1.0e-25_np2_pk.dat\n",
      "pk_m1.0e-05_sig1.0e-25_np2_tk.dat\n",
      "pk_m1.0e-05_sig1.0e-25_np2_unused_parameters\n"
     ]
    }
   ],
   "source": [
    "ls ../output | head"
   ]
  },
  {
   "cell_type": "code",
   "execution_count": 10,
   "id": "ed14063a-96ea-4513-9c10-bfc6583b4be8",
   "metadata": {},
   "outputs": [],
   "source": [
    "import re\n",
    "\n",
    "def parse_filename(s):\n",
    "    \"\"\"Takes filename, returns dictionary of parameters\n",
    "    \"\"\"\n",
    "    m = re.search(r'pk_m(.+)_sig(.+)_np(\\d)_tk.dat', s)\n",
    "    if m:\n",
    "        return {'mass': float(m.group(1)),\n",
    "                'sigma': float(m.group(2)),\n",
    "                'np': int(m.group(3))\n",
    "               }"
   ]
  },
  {
   "cell_type": "code",
   "execution_count": 11,
   "id": "11fb5db2-a382-45bf-bf7b-77e96e04b5fc",
   "metadata": {},
   "outputs": [
    {
     "data": {
      "text/plain": [
       "{'mass': 1e-05, 'sigma': 1e-25, 'np': 0}"
      ]
     },
     "execution_count": 11,
     "metadata": {},
     "output_type": "execute_result"
    }
   ],
   "source": [
    "parse_filename('pk_m1.0e-05_sig1.0e-25_np0_tk.dat')"
   ]
  },
  {
   "cell_type": "code",
   "execution_count": 12,
   "id": "cc6de552-106d-4ef2-9c98-d09b22389d50",
   "metadata": {},
   "outputs": [
    {
     "name": "stdout",
     "output_type": "stream",
     "text": [
      "Intel MKL WARNING: Support of Intel(R) Streaming SIMD Extensions 4.2 (Intel(R) SSE4.2) enabled only processors has been deprecated. Intel oneAPI Math Kernel Library 2025.0 will require Intel(R) Advanced Vector Extensions (Intel(R) AVX) instructions.\n",
      "Intel MKL WARNING: Support of Intel(R) Streaming SIMD Extensions 4.2 (Intel(R) SSE4.2) enabled only processors has been deprecated. Intel oneAPI Math Kernel Library 2025.0 will require Intel(R) Advanced Vector Extensions (Intel(R) AVX) instructions.\n"
     ]
    }
   ],
   "source": [
    "import pandas as pd"
   ]
  },
  {
   "cell_type": "code",
   "execution_count": 76,
   "id": "e10d0714-00ed-405e-b158-fe471b0df7b6",
   "metadata": {},
   "outputs": [],
   "source": [
    "import glob\n",
    "\n",
    "files = glob.glob('../output/*_tk.dat')\n",
    "columns = ['k','d_g', 'd_b', 'd_cdm', 'd_dmeff','d_ur', 'd_tot', 'phi', 'psi']\n",
    "csv_kwargs = dict(sep=r'\\s+', skiprows=9, names=columns)\n",
    "dfs = []\n",
    "for f in files:\n",
    "    df = pd.read_csv(f, **csv_kwargs)\n",
    "    params = parse_filename(f)\n",
    "    if not params:\n",
    "        print(f)\n",
    "    else:\n",
    "        df = df.assign(**params)\n",
    "    dfs.append(df)\n",
    "df = pd.concat(dfs)"
   ]
  },
  {
   "cell_type": "code",
   "execution_count": 62,
   "id": "34cb7ad9-8b8a-4d1d-be16-a837cc27bcdd",
   "metadata": {},
   "outputs": [
    {
     "data": {
      "text/html": [
       "<div>\n",
       "<style scoped>\n",
       "    .dataframe tbody tr th:only-of-type {\n",
       "        vertical-align: middle;\n",
       "    }\n",
       "\n",
       "    .dataframe tbody tr th {\n",
       "        vertical-align: top;\n",
       "    }\n",
       "\n",
       "    .dataframe thead th {\n",
       "        text-align: right;\n",
       "    }\n",
       "</style>\n",
       "<table border=\"1\" class=\"dataframe\">\n",
       "  <thead>\n",
       "    <tr style=\"text-align: right;\">\n",
       "      <th></th>\n",
       "      <th>k</th>\n",
       "      <th>d_g</th>\n",
       "      <th>d_b</th>\n",
       "      <th>d_cdm</th>\n",
       "      <th>d_dmeff</th>\n",
       "      <th>d_ur</th>\n",
       "      <th>d_tot</th>\n",
       "      <th>phi</th>\n",
       "      <th>psi</th>\n",
       "      <th>mass</th>\n",
       "      <th>sigma</th>\n",
       "      <th>np</th>\n",
       "    </tr>\n",
       "  </thead>\n",
       "  <tbody>\n",
       "    <tr>\n",
       "      <th>0</th>\n",
       "      <td>0.000010</td>\n",
       "      <td>-0.000016</td>\n",
       "      <td>-0.000012</td>\n",
       "      <td>-0.000012</td>\n",
       "      <td>-0.000012</td>\n",
       "      <td>-0.000016</td>\n",
       "      <td>-0.000012</td>\n",
       "      <td>0.612177</td>\n",
       "      <td>0.596846</td>\n",
       "      <td>0.000036</td>\n",
       "      <td>3.600000e-30</td>\n",
       "      <td>2</td>\n",
       "    </tr>\n",
       "    <tr>\n",
       "      <th>1</th>\n",
       "      <td>0.000012</td>\n",
       "      <td>-0.000020</td>\n",
       "      <td>-0.000015</td>\n",
       "      <td>-0.000015</td>\n",
       "      <td>-0.000015</td>\n",
       "      <td>-0.000020</td>\n",
       "      <td>-0.000015</td>\n",
       "      <td>0.612177</td>\n",
       "      <td>0.596846</td>\n",
       "      <td>0.000036</td>\n",
       "      <td>3.600000e-30</td>\n",
       "      <td>2</td>\n",
       "    </tr>\n",
       "    <tr>\n",
       "      <th>2</th>\n",
       "      <td>0.000013</td>\n",
       "      <td>-0.000025</td>\n",
       "      <td>-0.000019</td>\n",
       "      <td>-0.000019</td>\n",
       "      <td>-0.000019</td>\n",
       "      <td>-0.000025</td>\n",
       "      <td>-0.000019</td>\n",
       "      <td>0.612177</td>\n",
       "      <td>0.596846</td>\n",
       "      <td>0.000036</td>\n",
       "      <td>3.600000e-30</td>\n",
       "      <td>2</td>\n",
       "    </tr>\n",
       "    <tr>\n",
       "      <th>3</th>\n",
       "      <td>0.000015</td>\n",
       "      <td>-0.000032</td>\n",
       "      <td>-0.000024</td>\n",
       "      <td>-0.000024</td>\n",
       "      <td>-0.000024</td>\n",
       "      <td>-0.000032</td>\n",
       "      <td>-0.000024</td>\n",
       "      <td>0.612177</td>\n",
       "      <td>0.596846</td>\n",
       "      <td>0.000036</td>\n",
       "      <td>3.600000e-30</td>\n",
       "      <td>2</td>\n",
       "    </tr>\n",
       "    <tr>\n",
       "      <th>4</th>\n",
       "      <td>0.000017</td>\n",
       "      <td>-0.000040</td>\n",
       "      <td>-0.000030</td>\n",
       "      <td>-0.000030</td>\n",
       "      <td>-0.000030</td>\n",
       "      <td>-0.000040</td>\n",
       "      <td>-0.000030</td>\n",
       "      <td>0.612177</td>\n",
       "      <td>0.596846</td>\n",
       "      <td>0.000036</td>\n",
       "      <td>3.600000e-30</td>\n",
       "      <td>2</td>\n",
       "    </tr>\n",
       "  </tbody>\n",
       "</table>\n",
       "</div>"
      ],
      "text/plain": [
       "          k       d_g       d_b     d_cdm   d_dmeff      d_ur     d_tot  \\\n",
       "0  0.000010 -0.000016 -0.000012 -0.000012 -0.000012 -0.000016 -0.000012   \n",
       "1  0.000012 -0.000020 -0.000015 -0.000015 -0.000015 -0.000020 -0.000015   \n",
       "2  0.000013 -0.000025 -0.000019 -0.000019 -0.000019 -0.000025 -0.000019   \n",
       "3  0.000015 -0.000032 -0.000024 -0.000024 -0.000024 -0.000032 -0.000024   \n",
       "4  0.000017 -0.000040 -0.000030 -0.000030 -0.000030 -0.000040 -0.000030   \n",
       "\n",
       "        phi       psi      mass         sigma  np  \n",
       "0  0.612177  0.596846  0.000036  3.600000e-30   2  \n",
       "1  0.612177  0.596846  0.000036  3.600000e-30   2  \n",
       "2  0.612177  0.596846  0.000036  3.600000e-30   2  \n",
       "3  0.612177  0.596846  0.000036  3.600000e-30   2  \n",
       "4  0.612177  0.596846  0.000036  3.600000e-30   2  "
      ]
     },
     "execution_count": 62,
     "metadata": {},
     "output_type": "execute_result"
    }
   ],
   "source": [
    "df.head()"
   ]
  },
  {
   "cell_type": "code",
   "execution_count": 63,
   "id": "fa507b6f-8d46-488d-ac86-863e4fec471f",
   "metadata": {},
   "outputs": [
    {
     "data": {
      "text/plain": [
       "array([3.6e-05, 2.2e-02, 2.8e-01, 4.6e-04, 1.7e-03, 6.0e-03, 1.3e-04,\n",
       "       1.0e+00, 7.7e-02, 1.0e-05])"
      ]
     },
     "execution_count": 63,
     "metadata": {},
     "output_type": "execute_result"
    }
   ],
   "source": [
    "df.query('np==2').mass.unique()"
   ]
  },
  {
   "cell_type": "code",
   "execution_count": 69,
   "id": "b4c3057c-5902-4927-b5f5-4458307724f1",
   "metadata": {},
   "outputs": [
    {
     "data": {
      "text/plain": [
       "array([3.6e-30, 1.0e-25, 1.7e-28, 6.0e-28, 1.3e-29, 2.8e-26, 7.7e-27,\n",
       "       4.6e-29, 2.2e-27, 1.0e-30])"
      ]
     },
     "execution_count": 69,
     "metadata": {},
     "output_type": "execute_result"
    }
   ],
   "source": [
    "df.query('np==2').sigma.unique()"
   ]
  },
  {
   "cell_type": "code",
   "execution_count": 89,
   "id": "5e4acf83-09b4-4606-90ac-c2ff93356b8c",
   "metadata": {},
   "outputs": [
    {
     "data": {
      "image/png": "[encoded data removed]",
      "text/plain": [
       "<Figure size 640x480 with 1 Axes>"
      ]
     },
     "metadata": {},
     "output_type": "display_data"
    }
   ],
   "source": [
    "import matplotlib.pyplot as plt\n",
    "import numpy as np\n",
    "\n",
    "subdf = df.query('k>0.1 and np==2 and sigma==1.0e-25')\n",
    "for mass in np.sort(subdf.mass.unique()):\n",
    "    subsubdf = subdf.query(f'mass == {mass}')\n",
    "    plt.semilogx(subsubdf['k'], subsubdf['d_tot'], label=f'mass = {mass}')\n",
    "# plt.yscale('symlog')"
   ]
  },
  {
   "cell_type": "code",
   "execution_count": 74,
   "id": "eb1d1666-8d22-418e-9c91-e1cc2462c466",
   "metadata": {},
   "outputs": [],
   "source": [
    "df.to_csv('all_tk.csv')"
   ]
  },
  {
   "cell_type": "code",
   "execution_count": 57,
   "id": "2d3bcfd9-c5e1-4250-a26d-4b206fd68ee8",
   "metadata": {},
   "outputs": [
    {
     "ename": "KeyError",
     "evalue": "(3.6e-05, 3.6e-30, 2)",
     "output_type": "error",
     "traceback": [
      "\u001b[0;31m---------------------------------------------------------------------------\u001b[0m",
      "\u001b[0;31mKeyError\u001b[0m                                  Traceback (most recent call last)",
      "File \u001b[0;32m/opt/miniconda3/lib/python3.12/site-packages/pandas/core/indexes/base.py:3812\u001b[0m, in \u001b[0;36mIndex.get_loc\u001b[0;34m(self, key)\u001b[0m\n\u001b[1;32m   3811\u001b[0m \u001b[38;5;28;01mtry\u001b[39;00m:\n\u001b[0;32m-> 3812\u001b[0m     \u001b[38;5;28;01mreturn\u001b[39;00m \u001b[38;5;28mself\u001b[39m\u001b[38;5;241m.\u001b[39m_engine\u001b[38;5;241m.\u001b[39mget_loc(casted_key)\n\u001b[1;32m   3813\u001b[0m \u001b[38;5;28;01mexcept\u001b[39;00m \u001b[38;5;167;01mKeyError\u001b[39;00m \u001b[38;5;28;01mas\u001b[39;00m err:\n",
      "File \u001b[0;32mindex.pyx:167\u001b[0m, in \u001b[0;36mpandas._libs.index.IndexEngine.get_loc\u001b[0;34m()\u001b[0m\n",
      "File \u001b[0;32mindex.pyx:196\u001b[0m, in \u001b[0;36mpandas._libs.index.IndexEngine.get_loc\u001b[0;34m()\u001b[0m\n",
      "File \u001b[0;32mpandas/_libs/hashtable_class_helper.pxi:7088\u001b[0m, in \u001b[0;36mpandas._libs.hashtable.PyObjectHashTable.get_item\u001b[0;34m()\u001b[0m\n",
      "File \u001b[0;32mpandas/_libs/hashtable_class_helper.pxi:7096\u001b[0m, in \u001b[0;36mpandas._libs.hashtable.PyObjectHashTable.get_item\u001b[0;34m()\u001b[0m\n",
      "\u001b[0;31mKeyError\u001b[0m: (3.6e-05, 3.6e-30, 2)",
      "\nThe above exception was the direct cause of the following exception:\n",
      "\u001b[0;31mKeyError\u001b[0m                                  Traceback (most recent call last)",
      "Cell \u001b[0;32mIn[57], line 1\u001b[0m\n\u001b[0;32m----> 1\u001b[0m df[(\u001b[38;5;241m0.000036\u001b[39m, \u001b[38;5;241m3.6e-30\u001b[39m, \u001b[38;5;241m2\u001b[39m)]\n",
      "File \u001b[0;32m/opt/miniconda3/lib/python3.12/site-packages/pandas/core/frame.py:4107\u001b[0m, in \u001b[0;36mDataFrame.__getitem__\u001b[0;34m(self, key)\u001b[0m\n\u001b[1;32m   4105\u001b[0m \u001b[38;5;28;01mif\u001b[39;00m \u001b[38;5;28mself\u001b[39m\u001b[38;5;241m.\u001b[39mcolumns\u001b[38;5;241m.\u001b[39mnlevels \u001b[38;5;241m>\u001b[39m \u001b[38;5;241m1\u001b[39m:\n\u001b[1;32m   4106\u001b[0m     \u001b[38;5;28;01mreturn\u001b[39;00m \u001b[38;5;28mself\u001b[39m\u001b[38;5;241m.\u001b[39m_getitem_multilevel(key)\n\u001b[0;32m-> 4107\u001b[0m indexer \u001b[38;5;241m=\u001b[39m \u001b[38;5;28mself\u001b[39m\u001b[38;5;241m.\u001b[39mcolumns\u001b[38;5;241m.\u001b[39mget_loc(key)\n\u001b[1;32m   4108\u001b[0m \u001b[38;5;28;01mif\u001b[39;00m is_integer(indexer):\n\u001b[1;32m   4109\u001b[0m     indexer \u001b[38;5;241m=\u001b[39m [indexer]\n",
      "File \u001b[0;32m/opt/miniconda3/lib/python3.12/site-packages/pandas/core/indexes/base.py:3819\u001b[0m, in \u001b[0;36mIndex.get_loc\u001b[0;34m(self, key)\u001b[0m\n\u001b[1;32m   3814\u001b[0m     \u001b[38;5;28;01mif\u001b[39;00m \u001b[38;5;28misinstance\u001b[39m(casted_key, \u001b[38;5;28mslice\u001b[39m) \u001b[38;5;129;01mor\u001b[39;00m (\n\u001b[1;32m   3815\u001b[0m         \u001b[38;5;28misinstance\u001b[39m(casted_key, abc\u001b[38;5;241m.\u001b[39mIterable)\n\u001b[1;32m   3816\u001b[0m         \u001b[38;5;129;01mand\u001b[39;00m \u001b[38;5;28many\u001b[39m(\u001b[38;5;28misinstance\u001b[39m(x, \u001b[38;5;28mslice\u001b[39m) \u001b[38;5;28;01mfor\u001b[39;00m x \u001b[38;5;129;01min\u001b[39;00m casted_key)\n\u001b[1;32m   3817\u001b[0m     ):\n\u001b[1;32m   3818\u001b[0m         \u001b[38;5;28;01mraise\u001b[39;00m InvalidIndexError(key)\n\u001b[0;32m-> 3819\u001b[0m     \u001b[38;5;28;01mraise\u001b[39;00m \u001b[38;5;167;01mKeyError\u001b[39;00m(key) \u001b[38;5;28;01mfrom\u001b[39;00m \u001b[38;5;21;01merr\u001b[39;00m\n\u001b[1;32m   3820\u001b[0m \u001b[38;5;28;01mexcept\u001b[39;00m \u001b[38;5;167;01mTypeError\u001b[39;00m:\n\u001b[1;32m   3821\u001b[0m     \u001b[38;5;66;03m# If we have a listlike key, _check_indexing_error will raise\u001b[39;00m\n\u001b[1;32m   3822\u001b[0m     \u001b[38;5;66;03m#  InvalidIndexError. Otherwise we fall through and re-raise\u001b[39;00m\n\u001b[1;32m   3823\u001b[0m     \u001b[38;5;66;03m#  the TypeError.\u001b[39;00m\n\u001b[1;32m   3824\u001b[0m     \u001b[38;5;28mself\u001b[39m\u001b[38;5;241m.\u001b[39m_check_indexing_error(key)\n",
      "\u001b[0;31mKeyError\u001b[0m: (3.6e-05, 3.6e-30, 2)"
     ]
    }
   ],
   "source": [
    "df[(0.000036, 3.6e-30, 2)]"
   ]
  },
  {
   "cell_type": "code",
   "execution_count": 41,
   "id": "65938e9b-2c38-4aec-b976-dd12a15a3d28",
   "metadata": {},
   "outputs": [
    {
     "data": {
      "text/plain": [
       "57600"
      ]
     },
     "execution_count": 41,
     "metadata": {},
     "output_type": "execute_result"
    }
   ],
   "source": [
    "len(df)"
   ]
  },
  {
   "cell_type": "code",
   "execution_count": 42,
   "id": "163b07a3-6df6-4982-b8cf-a9d7249ed4ec",
   "metadata": {},
   "outputs": [
    {
     "data": {
      "text/html": [
       "<div>\n",
       "<style scoped>\n",
       "    .dataframe tbody tr th:only-of-type {\n",
       "        vertical-align: middle;\n",
       "    }\n",
       "\n",
       "    .dataframe tbody tr th {\n",
       "        vertical-align: top;\n",
       "    }\n",
       "\n",
       "    .dataframe thead th {\n",
       "        text-align: right;\n",
       "    }\n",
       "</style>\n",
       "<table border=\"1\" class=\"dataframe\">\n",
       "  <thead>\n",
       "    <tr style=\"text-align: right;\">\n",
       "      <th></th>\n",
       "      <th>k</th>\n",
       "      <th>d_g</th>\n",
       "      <th>d_b</th>\n",
       "      <th>d_cdm</th>\n",
       "      <th>d_dmeff</th>\n",
       "      <th>d_ur</th>\n",
       "      <th>d_tot</th>\n",
       "      <th>phi</th>\n",
       "      <th>psi</th>\n",
       "      <th>mass</th>\n",
       "      <th>sigma</th>\n",
       "      <th>np</th>\n",
       "    </tr>\n",
       "  </thead>\n",
       "  <tbody>\n",
       "    <tr>\n",
       "      <th>0</th>\n",
       "      <td>0.000010</td>\n",
       "      <td>-1.589235e-05</td>\n",
       "      <td>-0.000012</td>\n",
       "      <td>-0.000012</td>\n",
       "      <td>-0.000012</td>\n",
       "      <td>-1.589234e-05</td>\n",
       "      <td>-0.000012</td>\n",
       "      <td>6.121773e-01</td>\n",
       "      <td>5.968462e-01</td>\n",
       "      <td>0.000036</td>\n",
       "      <td>3.600000e-30</td>\n",
       "      <td>2</td>\n",
       "    </tr>\n",
       "    <tr>\n",
       "      <th>1</th>\n",
       "      <td>0.000012</td>\n",
       "      <td>-2.000726e-05</td>\n",
       "      <td>-0.000015</td>\n",
       "      <td>-0.000015</td>\n",
       "      <td>-0.000015</td>\n",
       "      <td>-2.000725e-05</td>\n",
       "      <td>-0.000015</td>\n",
       "      <td>6.121772e-01</td>\n",
       "      <td>5.968461e-01</td>\n",
       "      <td>0.000036</td>\n",
       "      <td>3.600000e-30</td>\n",
       "      <td>2</td>\n",
       "    </tr>\n",
       "    <tr>\n",
       "      <th>2</th>\n",
       "      <td>0.000013</td>\n",
       "      <td>-2.518761e-05</td>\n",
       "      <td>-0.000019</td>\n",
       "      <td>-0.000019</td>\n",
       "      <td>-0.000019</td>\n",
       "      <td>-2.518760e-05</td>\n",
       "      <td>-0.000019</td>\n",
       "      <td>6.121771e-01</td>\n",
       "      <td>5.968461e-01</td>\n",
       "      <td>0.000036</td>\n",
       "      <td>3.600000e-30</td>\n",
       "      <td>2</td>\n",
       "    </tr>\n",
       "    <tr>\n",
       "      <th>3</th>\n",
       "      <td>0.000015</td>\n",
       "      <td>-3.170927e-05</td>\n",
       "      <td>-0.000024</td>\n",
       "      <td>-0.000024</td>\n",
       "      <td>-0.000024</td>\n",
       "      <td>-3.170924e-05</td>\n",
       "      <td>-0.000024</td>\n",
       "      <td>6.121769e-01</td>\n",
       "      <td>5.968460e-01</td>\n",
       "      <td>0.000036</td>\n",
       "      <td>3.600000e-30</td>\n",
       "      <td>2</td>\n",
       "    </tr>\n",
       "    <tr>\n",
       "      <th>4</th>\n",
       "      <td>0.000017</td>\n",
       "      <td>-3.991952e-05</td>\n",
       "      <td>-0.000030</td>\n",
       "      <td>-0.000030</td>\n",
       "      <td>-0.000030</td>\n",
       "      <td>-3.991947e-05</td>\n",
       "      <td>-0.000030</td>\n",
       "      <td>6.121768e-01</td>\n",
       "      <td>5.968459e-01</td>\n",
       "      <td>0.000036</td>\n",
       "      <td>3.600000e-30</td>\n",
       "      <td>2</td>\n",
       "    </tr>\n",
       "    <tr>\n",
       "      <th>...</th>\n",
       "      <td>...</td>\n",
       "      <td>...</td>\n",
       "      <td>...</td>\n",
       "      <td>...</td>\n",
       "      <td>...</td>\n",
       "      <td>...</td>\n",
       "      <td>...</td>\n",
       "      <td>...</td>\n",
       "      <td>...</td>\n",
       "      <td>...</td>\n",
       "      <td>...</td>\n",
       "      <td>...</td>\n",
       "    </tr>\n",
       "    <tr>\n",
       "      <th>187</th>\n",
       "      <td>66.734543</td>\n",
       "      <td>-2.203850e-06</td>\n",
       "      <td>-1088.469884</td>\n",
       "      <td>-1538.677937</td>\n",
       "      <td>-1538.392730</td>\n",
       "      <td>-2.200203e-06</td>\n",
       "      <td>-1425.862097</td>\n",
       "      <td>1.704524e-06</td>\n",
       "      <td>1.704524e-06</td>\n",
       "      <td>0.022000</td>\n",
       "      <td>7.700000e-27</td>\n",
       "      <td>2</td>\n",
       "    </tr>\n",
       "    <tr>\n",
       "      <th>188</th>\n",
       "      <td>74.877389</td>\n",
       "      <td>-1.777120e-06</td>\n",
       "      <td>-1103.226312</td>\n",
       "      <td>-1562.989806</td>\n",
       "      <td>-1562.586483</td>\n",
       "      <td>-1.774187e-06</td>\n",
       "      <td>-1447.925741</td>\n",
       "      <td>1.374902e-06</td>\n",
       "      <td>1.374902e-06</td>\n",
       "      <td>0.022000</td>\n",
       "      <td>7.700000e-27</td>\n",
       "      <td>2</td>\n",
       "    </tr>\n",
       "    <tr>\n",
       "      <th>189</th>\n",
       "      <td>84.013812</td>\n",
       "      <td>-1.431362e-06</td>\n",
       "      <td>-1116.431498</td>\n",
       "      <td>-1586.125811</td>\n",
       "      <td>-1585.554339</td>\n",
       "      <td>-1.429007e-06</td>\n",
       "      <td>-1468.748800</td>\n",
       "      <td>1.107830e-06</td>\n",
       "      <td>1.107830e-06</td>\n",
       "      <td>0.022000</td>\n",
       "      <td>7.700000e-27</td>\n",
       "      <td>2</td>\n",
       "    </tr>\n",
       "    <tr>\n",
       "      <th>190</th>\n",
       "      <td>94.265048</td>\n",
       "      <td>-1.151167e-06</td>\n",
       "      <td>-1127.537605</td>\n",
       "      <td>-1607.577824</td>\n",
       "      <td>-1606.767007</td>\n",
       "      <td>-1.149281e-06</td>\n",
       "      <td>-1487.814246</td>\n",
       "      <td>8.914033e-07</td>\n",
       "      <td>8.914033e-07</td>\n",
       "      <td>0.022000</td>\n",
       "      <td>7.700000e-27</td>\n",
       "      <td>2</td>\n",
       "    </tr>\n",
       "    <tr>\n",
       "      <th>191</th>\n",
       "      <td>105.767123</td>\n",
       "      <td>-9.240208e-07</td>\n",
       "      <td>-1135.796849</td>\n",
       "      <td>-1626.613682</td>\n",
       "      <td>-1625.462603</td>\n",
       "      <td>-9.225135e-07</td>\n",
       "      <td>-1504.384073</td>\n",
       "      <td>7.159525e-07</td>\n",
       "      <td>7.159525e-07</td>\n",
       "      <td>0.022000</td>\n",
       "      <td>7.700000e-27</td>\n",
       "      <td>2</td>\n",
       "    </tr>\n",
       "  </tbody>\n",
       "</table>\n",
       "<p>57600 rows × 12 columns</p>\n",
       "</div>"
      ],
      "text/plain": [
       "              k           d_g          d_b        d_cdm      d_dmeff  \\\n",
       "0      0.000010 -1.589235e-05    -0.000012    -0.000012    -0.000012   \n",
       "1      0.000012 -2.000726e-05    -0.000015    -0.000015    -0.000015   \n",
       "2      0.000013 -2.518761e-05    -0.000019    -0.000019    -0.000019   \n",
       "3      0.000015 -3.170927e-05    -0.000024    -0.000024    -0.000024   \n",
       "4      0.000017 -3.991952e-05    -0.000030    -0.000030    -0.000030   \n",
       "..          ...           ...          ...          ...          ...   \n",
       "187   66.734543 -2.203850e-06 -1088.469884 -1538.677937 -1538.392730   \n",
       "188   74.877389 -1.777120e-06 -1103.226312 -1562.989806 -1562.586483   \n",
       "189   84.013812 -1.431362e-06 -1116.431498 -1586.125811 -1585.554339   \n",
       "190   94.265048 -1.151167e-06 -1127.537605 -1607.577824 -1606.767007   \n",
       "191  105.767123 -9.240208e-07 -1135.796849 -1626.613682 -1625.462603   \n",
       "\n",
       "             d_ur        d_tot           phi           psi      mass  \\\n",
       "0   -1.589234e-05    -0.000012  6.121773e-01  5.968462e-01  0.000036   \n",
       "1   -2.000725e-05    -0.000015  6.121772e-01  5.968461e-01  0.000036   \n",
       "2   -2.518760e-05    -0.000019  6.121771e-01  5.968461e-01  0.000036   \n",
       "3   -3.170924e-05    -0.000024  6.121769e-01  5.968460e-01  0.000036   \n",
       "4   -3.991947e-05    -0.000030  6.121768e-01  5.968459e-01  0.000036   \n",
       "..            ...          ...           ...           ...       ...   \n",
       "187 -2.200203e-06 -1425.862097  1.704524e-06  1.704524e-06  0.022000   \n",
       "188 -1.774187e-06 -1447.925741  1.374902e-06  1.374902e-06  0.022000   \n",
       "189 -1.429007e-06 -1468.748800  1.107830e-06  1.107830e-06  0.022000   \n",
       "190 -1.149281e-06 -1487.814246  8.914033e-07  8.914033e-07  0.022000   \n",
       "191 -9.225135e-07 -1504.384073  7.159525e-07  7.159525e-07  0.022000   \n",
       "\n",
       "            sigma  np  \n",
       "0    3.600000e-30   2  \n",
       "1    3.600000e-30   2  \n",
       "2    3.600000e-30   2  \n",
       "3    3.600000e-30   2  \n",
       "4    3.600000e-30   2  \n",
       "..            ...  ..  \n",
       "187  7.700000e-27   2  \n",
       "188  7.700000e-27   2  \n",
       "189  7.700000e-27   2  \n",
       "190  7.700000e-27   2  \n",
       "191  7.700000e-27   2  \n",
       "\n",
       "[57600 rows x 12 columns]"
      ]
     },
     "execution_count": 42,
     "metadata": {},
     "output_type": "execute_result"
    }
   ],
   "source": [
    "df"
   ]
  },
  {
   "cell_type": "code",
   "execution_count": 35,
   "id": "4f1397cb-83bc-47a0-932b-04f092f4d2f3",
   "metadata": {},
   "outputs": [
    {
     "data": {
      "text/plain": [
       "301"
      ]
     },
     "execution_count": 35,
     "metadata": {},
     "output_type": "execute_result"
    }
   ],
   "source": [
    "len(dfs)"
   ]
  },
  {
   "cell_type": "code",
   "execution_count": 26,
   "id": "a8705206-804a-4f22-b724-eeb44666ffce",
   "metadata": {},
   "outputs": [
    {
     "data": {
      "text/html": [
       "<div>\n",
       "<style scoped>\n",
       "    .dataframe tbody tr th:only-of-type {\n",
       "        vertical-align: middle;\n",
       "    }\n",
       "\n",
       "    .dataframe tbody tr th {\n",
       "        vertical-align: top;\n",
       "    }\n",
       "\n",
       "    .dataframe thead th {\n",
       "        text-align: right;\n",
       "    }\n",
       "</style>\n",
       "<table border=\"1\" class=\"dataframe\">\n",
       "  <thead>\n",
       "    <tr style=\"text-align: right;\">\n",
       "      <th></th>\n",
       "      <th>k</th>\n",
       "      <th>d_g</th>\n",
       "      <th>d_b</th>\n",
       "      <th>d_cdm</th>\n",
       "      <th>d_dmeff</th>\n",
       "      <th>d_ur</th>\n",
       "      <th>d_tot</th>\n",
       "      <th>phi</th>\n",
       "      <th>psi</th>\n",
       "    </tr>\n",
       "  </thead>\n",
       "  <tbody>\n",
       "    <tr>\n",
       "      <th>0</th>\n",
       "      <td>0.000010</td>\n",
       "      <td>-0.000016</td>\n",
       "      <td>-0.000012</td>\n",
       "      <td>-0.000012</td>\n",
       "      <td>-0.000012</td>\n",
       "      <td>-0.000016</td>\n",
       "      <td>-0.000012</td>\n",
       "      <td>0.612177</td>\n",
       "      <td>0.596846</td>\n",
       "    </tr>\n",
       "    <tr>\n",
       "      <th>1</th>\n",
       "      <td>0.000012</td>\n",
       "      <td>-0.000020</td>\n",
       "      <td>-0.000015</td>\n",
       "      <td>-0.000015</td>\n",
       "      <td>-0.000015</td>\n",
       "      <td>-0.000020</td>\n",
       "      <td>-0.000015</td>\n",
       "      <td>0.612177</td>\n",
       "      <td>0.596846</td>\n",
       "    </tr>\n",
       "    <tr>\n",
       "      <th>2</th>\n",
       "      <td>0.000013</td>\n",
       "      <td>-0.000025</td>\n",
       "      <td>-0.000019</td>\n",
       "      <td>-0.000019</td>\n",
       "      <td>-0.000019</td>\n",
       "      <td>-0.000025</td>\n",
       "      <td>-0.000019</td>\n",
       "      <td>0.612177</td>\n",
       "      <td>0.596846</td>\n",
       "    </tr>\n",
       "    <tr>\n",
       "      <th>3</th>\n",
       "      <td>0.000015</td>\n",
       "      <td>-0.000032</td>\n",
       "      <td>-0.000024</td>\n",
       "      <td>-0.000024</td>\n",
       "      <td>-0.000024</td>\n",
       "      <td>-0.000032</td>\n",
       "      <td>-0.000024</td>\n",
       "      <td>0.612177</td>\n",
       "      <td>0.596846</td>\n",
       "    </tr>\n",
       "    <tr>\n",
       "      <th>4</th>\n",
       "      <td>0.000017</td>\n",
       "      <td>-0.000040</td>\n",
       "      <td>-0.000030</td>\n",
       "      <td>-0.000030</td>\n",
       "      <td>-0.000030</td>\n",
       "      <td>-0.000040</td>\n",
       "      <td>-0.000030</td>\n",
       "      <td>0.612177</td>\n",
       "      <td>0.596846</td>\n",
       "    </tr>\n",
       "  </tbody>\n",
       "</table>\n",
       "</div>"
      ],
      "text/plain": [
       "          k       d_g       d_b     d_cdm   d_dmeff      d_ur     d_tot  \\\n",
       "0  0.000010 -0.000016 -0.000012 -0.000012 -0.000012 -0.000016 -0.000012   \n",
       "1  0.000012 -0.000020 -0.000015 -0.000015 -0.000015 -0.000020 -0.000015   \n",
       "2  0.000013 -0.000025 -0.000019 -0.000019 -0.000019 -0.000025 -0.000019   \n",
       "3  0.000015 -0.000032 -0.000024 -0.000024 -0.000024 -0.000032 -0.000024   \n",
       "4  0.000017 -0.000040 -0.000030 -0.000030 -0.000030 -0.000040 -0.000030   \n",
       "\n",
       "        phi       psi  \n",
       "0  0.612177  0.596846  \n",
       "1  0.612177  0.596846  \n",
       "2  0.612177  0.596846  \n",
       "3  0.612177  0.596846  \n",
       "4  0.612177  0.596846  "
      ]
     },
     "execution_count": 26,
     "metadata": {},
     "output_type": "execute_result"
    }
   ],
   "source": [
    "df.head()"
   ]
  },
  {
   "cell_type": "code",
   "execution_count": 32,
   "id": "0a6eafa8-a0f5-46e9-8a65-4093846eec63",
   "metadata": {},
   "outputs": [
    {
     "data": {
      "text/plain": [
       "[<matplotlib.lines.Line2D at 0x12ed206e0>]"
      ]
     },
     "execution_count": 32,
     "metadata": {},
     "output_type": "execute_result"
    },
    {
     "data": {
      "image/png": "[encoded data removed]",
      "text/plain": [
       "<Figure size 640x480 with 1 Axes>"
      ]
     },
     "metadata": {},
     "output_type": "display_data"
    }
   ],
   "source": [
    "import matplotlib.pyplot as plt\n",
    "\n",
    "plt.loglog(df['k'], df['d_tot']**2)"
   ]
  },
  {
   "cell_type": "code",
   "execution_count": null,
   "id": "cf795cdf-4a71-448b-938f-f21ae3b16341",
   "metadata": {},
   "outputs": [],
   "source": [
    "import glob\n",
    "\n",
    "dfs = df"
   ]
  }
 ],
 "metadata": {
  "kernelspec": {
   "display_name": "Python 3 (ipykernel)",
   "language": "python",
   "name": "python3"
  },
  "language_info": {
   "codemirror_mode": {
    "name": "ipython",
    "version": 3
   },
   "file_extension": ".py",
   "mimetype": "text/x-python",
   "name": "python",
   "nbconvert_exporter": "python",
   "pygments_lexer": "ipython3",
   "version": "3.12.3"
  }
 },
 "nbformat": 4,
 "nbformat_minor": 5
}
